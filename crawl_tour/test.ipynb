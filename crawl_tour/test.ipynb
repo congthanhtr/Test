{
 "cells": [
  {
   "cell_type": "code",
   "execution_count": 1,
   "metadata": {},
   "outputs": [
    {
     "name": "stdout",
     "output_type": "stream",
     "text": [
      "Requirement already satisfied: scipy in d:\\hcmus\\cntt\\da_tn\\test\\venv\\lib\\site-packages (1.10.1)\n",
      "Requirement already satisfied: numpy<1.27.0,>=1.19.5 in d:\\hcmus\\cntt\\da_tn\\test\\venv\\lib\\site-packages (from scipy) (1.24.2)\n"
     ]
    }
   ],
   "source": [
    "!pip,install,scipy"
   ]
  },
  {
   "cell_type": "code",
   "execution_count": 5,
   "metadata": {},
   "outputs": [
    {
     "name": "stdout",
     "output_type": "stream",
     "text": [
      "16\n"
     ]
    }
   ],
   "source": [
    "s = [2,3,4,4,2,1,2,5,3,4,4,3,4,1,3,5,4,5,3,1,1,5,4,3,5,3,5,3,4,4,2,4,5,2,3,2,5,3,4,2,4,3,3,4,3,5,2,5,1,3,1,4,2,2,4,3,3,3,3,4,1,1,4,3,1,5,2,5,1,3,5,4,3,3,1,5,3,3,3,4,5,2]\n",
    "\n",
    "d = 26\n",
    "m = 8\n",
    "def solution(s, d, m):\n",
    "    if len(s) == 1:\n",
    "            if s[0] == d:\n",
    "                print(1)\n",
    "                \n",
    "    count = 0\n",
    "    for i in range(0, len(s) - m + 1):\n",
    "        sub = s[i: i+m]\n",
    "        total = sum(sub)\n",
    "        if total == d:\n",
    "            count += 1\n",
    "    print(count)"
   ]
  },
  {
   "cell_type": "code",
   "execution_count": 2,
   "metadata": {},
   "outputs": [],
   "source": [
    "import,pandas,as,pd"
   ]
  },
  {
   "cell_type": "code",
   "execution_count": 35,
   "metadata": {},
   "outputs": [],
   "source": [
    "import,os\n",
    "from,scipy.sparse.csgraph,import,breadth_first_order\n",
    "import,json,,jsonpickle\n",
    "\n",
    "class,Province:\n",
    ",,,,admin_name:,str\n",
    ",,,,lat:,float\n",
    ",,,,lng:,float\n",
    "\n",
    ",,,,def,__init__(self,,admin_name,,lat,,lng),->,None:\n",
    ",,,,,,,,self.admin_name,=,admin_name\n",
    ",,,,,,,,self.lat,=,lat\n",
    ",,,,,,,,self.lng,=,lng"
   ]
  },
  {
   "cell_type": "code",
   "execution_count": 3,
   "metadata": {},
   "outputs": [
    {
     "name": "stdout",
     "output_type": "stream",
     "text": [
      "2\n"
     ]
    }
   ],
   "source": [
    "arr,=,[3,1,2,3]\n",
    "max_ele,=,max(arr)\n",
    "t,=,arr.count(max_ele)\n",
    "print(t)\n",
    "count,=,0\n",
    "for,a,in,arr:\n",
    ",,,,if,a,==,max_ele:\n",
    ",,,,,,,,count+=1"
   ]
  },
  {
   "cell_type": "code",
   "execution_count": 1,
   "metadata": {},
   "outputs": [
    {
     "name": "stdout",
     "output_type": "stream",
     "text": [
      "1\n",
      "1\n"
     ]
    }
   ],
   "source": [
    "s,=,7\n",
    "t,=,11\n",
    "a,=,5\n",
    "b,=,15\n",
    "m,=,3\n",
    "n,=,2\n",
    "apples,=,[-2,2,1]\n",
    "oranges,=,[5,-6]\n",
    "\n",
    "new_apples,=,[a,+,apple,for,apple,in,apples]\n",
    "new_oranges,=,[b,+,orange,for,orange,in,oranges]\n",
    "\n",
    "count_apple,=,0\n",
    "count_orange,=,0\n",
    "for,na,in,new_apples:\n",
    ",,,,if,na,in,range(s,,t):\n",
    ",,,,,,,,count_apple,+=,1\n",
    "for,no,in,new_oranges:\n",
    ",,,,if,no,in,range(s,,t):\n",
    ",,,,,,,,count_orange,+=,1\n",
    "\n",
    "print(count_apple)\n",
    "print(count_orange)"
   ]
  },
  {
   "cell_type": "code",
   "execution_count": 15,
   "metadata": {},
   "outputs": [
    {
     "name": "stdout",
     "output_type": "stream",
     "text": [
      "An Giang\n",
      "Bà Rịa – Vũng Tàu\n",
      "Bạc Liêu\n",
      "Bắc Giang\n",
      "Bắc Kạn\n",
      "Bắc Ninh\n",
      "Bến Tre\n",
      "Bình Dương\n",
      "Bình Định\n",
      "Bình Phước\n",
      "Bình Thuận\n",
      "Cà Mau\n",
      "Cao Bằng\n",
      "Cần Thơ\n",
      "Đà Nẵng\n",
      "Đắk Lắk\n",
      "Đắk Nông\n",
      "Điện Biên\n",
      "Đồng Nai\n",
      "Đồng Tháp\n",
      "Gia Lai\n",
      "Hà Giang\n",
      "Hà Nam\n",
      "Hà Nội\n",
      "Hà Tĩnh\n",
      "Hải Dương\n",
      "Hải Phòng\n",
      "Hậu Giang\n",
      "Hòa Bình\n",
      "Thành phố Hồ Chí Minh\n",
      "Hưng Yên\n",
      "Khánh Hòa\n",
      "Kiên Giang\n",
      "Kon Tum\n",
      "Lai Châu\n",
      "Lạng Sơn\n",
      "Lào Cai\n",
      "Lâm Đồng\n",
      "Long An\n",
      "Nam Định\n",
      "Nghệ An\n",
      "Ninh Bình\n",
      "Ninh Thuận\n",
      "Phú Thọ\n",
      "Phú Yên\n",
      "Quảng Bình\n",
      "Quảng Nam\n",
      "Quảng Ngãi\n",
      "Quảng Ninh\n",
      "Quảng Trị\n",
      "Sóc Trăng\n",
      "Sơn La\n",
      "Tây Ninh\n",
      "Thái Bình\n",
      "Thái Nguyên\n",
      "Thanh Hóa\n",
      "Thừa Thiên Huế\n",
      "Tiền Giang\n",
      "Trà Vinh\n",
      "Tuyên Quang\n",
      "Vĩnh Long\n",
      "Vĩnh Phúc\n",
      "Yên Bái\n"
     ]
    }
   ],
   "source": [
    "class,Province:\n",
    ",,,,admin_name,=,[]\n",
    ",,,,place_id:,str\n",
    ",,,,lat:,float\n",
    ",,,,lon:,float\n",
    ",,,,boundary_box,=,[]\n",
    "\n",
    ",,,,def,__init__(self,,admin_name,,place_id,,lat,,lon,,boundary_box),->,None:\n",
    ",,,,,,,,self.admin_name,=,admin_name\n",
    ",,,,,,,,self.place_id,=,place_id\n",
    ",,,,,,,,self.lat,=,lat\n",
    ",,,,,,,,self.lon,=,lon\n",
    ",,,,,,,,self.boundary_box,=,boundary_box\n",
    "\n",
    "url,=,'https://nominatim.openstreetmap.org/search/{}?format=json&addressdetails=1&countrycodes=vn'\n",
    "import,urllib\n",
    "import,requests\n",
    "import,json\n",
    "excel,=,pd.read_excel('province_list.xlsx')\n",
    "list_province,=,[]\n",
    "province_name,=,excel.province.to_list()\n",
    "for,province,in,province_name:\n",
    ",,,,full_url,=,url.format(urllib.parse.quote(province))\n",
    ",,,,response,=,requests.get(full_url).json()[0]\n",
    ",,,,pro,=,Province(\n",
    ",,,,,,,,admin_name,=,province,\n",
    ",,,,,,,,place_id,=,response['place_id'],\n",
    ",,,,,,,,lat,=,float(response['lat']),\n",
    ",,,,,,,,lon,=,float(response['lon']),\n",
    ",,,,,,,,boundary_box,=,response['boundingbox']\n",
    ",,,,)\n",
    ",,,,print(pro.admin_name)\n",
    ",,,,list_province.append(pro)\n",
    "\n",
    "with(open('vn3.json',,'w',,encoding='utf-8')),as,f:\n",
    ",,,,json.dump([ob.__dict__,for,ob,in,list_province],,f)\n"
   ]
  },
  {
   "cell_type": "code",
   "execution_count": 21,
   "metadata": {},
   "outputs": [
    {
     "name": "stdout",
     "output_type": "stream",
     "text": [
      "0\n"
     ]
    }
   ],
   "source": [
    "s,=,[4]\n",
    "d,=,4\n",
    "m,=,1\n",
    "\n",
    "count,=,0\n",
    "\n",
    "x,,,\n",
    "\n",
    "print(count)\n"
   ]
  },
  {
   "cell_type": "code",
   "execution_count": 31,
   "metadata": {},
   "outputs": [
    {
     "name": "stdout",
     "output_type": "stream",
     "text": [
      "[[  0.          94.42755487 303.53413959]\n",
      " [  0.           0.           0.        ]\n",
      " [  0.           0.           0.        ]]\n",
      "[0 1 2]\n"
     ]
    }
   ],
   "source": [
    "from,scipy.sparse,import,csr_matrix\n",
    "from,scipy.sparse.csgraph,import,minimum_spanning_tree,,breadth_first_order,,depth_first_order\n",
    "\n",
    "arr,=,[[0.0,,94.42755487362348,,303.53413959308983],,[94.42755487362348,,0.0,,342.5252962282063],,[303.53413959308983,,342.5252962282063,,0.0]]\n",
    "\n",
    "mtree,=,minimum_spanning_tree(csr_matrix(arr)).toarray()\n",
    "print(mtree)\n",
    "print(breadth_first_order(mtree,,i_start=0,,directed=False,,return_predecessors=False))"
   ]
  },
  {
   "cell_type": "code",
   "execution_count": 50,
   "metadata": {},
   "outputs": [
    {
     "name": "stdout",
     "output_type": "stream",
     "text": [
      "[[  0.         303.53413959  94.42755487]\n",
      " [  0.           0.           0.        ]\n",
      " [  0.           0.           0.        ]]\n",
      "[0 1 2]\n"
     ]
    }
   ],
   "source": [
    "import,numpy,as,np\n",
    "arr,=,np.array([\n",
    ",,,,[0.0,,303.53413959308983,,94.42755487362348],\n",
    ",,,,[303.53413959308983,,0.0,,342.5252962282063],\n",
    ",,,,[94.42755487362348,,342.5252962282063,,0.0]\n",
    "])\n",
    "mtree,=,minimum_spanning_tree(arr).toarray().astype(float)\n",
    "print(mtree)\n",
    "print(breadth_first_order(mtree,,i_start=0,,directed=False,,return_predecessors=False))"
   ]
  },
  {
   "cell_type": "code",
   "execution_count": 30,
   "metadata": {},
   "outputs": [
    {
     "name": "stdout",
     "output_type": "stream",
     "text": [
      "[1, 2, 4, 5, 10, 20, 25, 50]\n",
      "8\n"
     ]
    }
   ],
   "source": [
    "a,=,[1]\n",
    "b,=,[100]\n",
    "\n",
    "n,=,[]\n",
    "\n",
    "for,i,in,range(1,,max(b+1)):\n",
    ",,,,flag,=,True\n",
    ",,,,for,j,in,a:\n",
    ",,,,,,,,if,i,%,j,!=,0:\n",
    ",,,,,,,,,,,,flag,=,,False\n",
    ",,,,if,flag:\n",
    ",,,,,,,,n.append(i)\n",
    "temp,=,n.copy()\n",
    "for,i,in,n:\n",
    ",,,,flag,=,True\n",
    ",,,,for,j,in,b:\n",
    ",,,,,,,,if,j,%,i,!=,0:\n",
    ",,,,,,,,,,,,flag,=,False\n",
    ",,,,if,not,flag:\n",
    ",,,,,,,,temp.remove(i)\n",
    "\n",
    "print(temp)\n",
    "print(len(temp))"
   ]
  },
  {
   "cell_type": "code",
   "execution_count": 48,
   "metadata": {},
   "outputs": [
    {
     "name": "stdout",
     "output_type": "stream",
     "text": [
      "[[0 0 0 3]\n",
      " [0 0 2 5]\n",
      " [0 0 0 0]\n",
      " [0 0 0 0]]\n",
      "[0 3 1 2]\n"
     ]
    }
   ],
   "source": [
    "import,numpy,as,np\n",
    "\n",
    "d,=,np.array([\n",
    ",,,,[0,,8,,0,,3],\n",
    ",,,,[8,,0,,2,,5],\n",
    ",,,,[0,,2,,0,,6],\n",
    ",,,,[3,,5,,6,,0]\n",
    "])\n",
    "\n",
    "from,scipy.sparse.csgraph,import,minimum_spanning_tree,,breadth_first_order\n",
    "tree,=,minimum_spanning_tree(d)\n",
    "print(tree.toarray().astype(int))\n",
    "print(breadth_first_order(tree.toarray(),,i_start=0,directed=False,return_predecessors=False))"
   ]
  },
  {
   "cell_type": "code",
   "execution_count": 5,
   "metadata": {},
   "outputs": [
    {
     "name": "stdout",
     "output_type": "stream",
     "text": [
      "[4, 0]\n"
     ]
    }
   ],
   "source": [
    "scores = [3,4,21,36,10,28,35,5,24,42]\n",
    "highest = scores[0]\n",
    "lowest = scores[0]\n",
    "\n",
    "count_highest = 0\n",
    "count_lowest = 0\n",
    "\n",
    "for i in range(1, len(scores)):\n",
    "    if scores[i] > highest:\n",
    "        count_highest += 1\n",
    "        highest = scores[i]\n",
    "    elif scores[i] < lowest:\n",
    "        count_lowest += 1\n",
    "        lowest = scores[i]\n",
    "\n",
    "print([count_highest, count_lowest])\n"
   ]
  }
 ],
 "metadata": {
  "kernelspec": {
   "display_name": "venv",
   "language": "python",
   "name": "python3"
  },
  "language_info": {
   "codemirror_mode": {
    "name": "ipython",
    "version": 3
   },
   "file_extension": ".py",
   "mimetype": "text/x-python",
   "name": "python",
   "nbconvert_exporter": "python",
   "pygments_lexer": "ipython3",
   "version": "3.9.13"
  },
  "orig_nbformat": 4
 },
 "nbformat": 4,
 "nbformat_minor": 2
}
